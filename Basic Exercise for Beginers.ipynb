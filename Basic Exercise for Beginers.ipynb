{
 "cells": [
  {
   "cell_type": "markdown",
   "id": "b27e6d71",
   "metadata": {},
   "source": [
    "### Exercise 1: Calculate the multiplication and sum of two numbers"
   ]
  },
  {
   "cell_type": "code",
   "execution_count": 4,
   "id": "d27be5b8",
   "metadata": {},
   "outputs": [
    {
     "name": "stdout",
     "output_type": "stream",
     "text": [
      "The result is: 70\n"
     ]
    }
   ],
   "source": [
    "def calculation(number1,number2):\n",
    "    product = number1 * number2\n",
    "    if product <= 1000:\n",
    "        return product\n",
    "    else:\n",
    "        sum = number1 + number2\n",
    "        return sum\n",
    "print(f\"The result is: {calculation(40,30)}\")\n"
   ]
  },
  {
   "cell_type": "markdown",
   "id": "23f75c66",
   "metadata": {},
   "source": [
    "### Exercise 2: Print the sum of the current number and the previous number"
   ]
  },
  {
   "cell_type": "code",
   "execution_count": 5,
   "id": "fefc63d2",
   "metadata": {},
   "outputs": [
    {
     "name": "stdout",
     "output_type": "stream",
     "text": [
      "Current Number  1 previous Number  0 Sum:  1\n",
      "Current Number  2 previous Number  1 Sum:  3\n",
      "Current Number  3 previous Number  2 Sum:  5\n",
      "Current Number  4 previous Number  3 Sum:  7\n",
      "Current Number  5 previous Number  4 Sum:  9\n",
      "Current Number  6 previous Number  5 Sum:  11\n",
      "Current Number  7 previous Number  6 Sum:  13\n",
      "Current Number  8 previous Number  7 Sum:  15\n",
      "Current Number  9 previous Number  8 Sum:  17\n",
      "Current Number  10 previous Number  9 Sum:  19\n"
     ]
    }
   ],
   "source": [
    "previous_num = 0\n",
    "for i in range(1,11):\n",
    "    sum = previous_num + i\n",
    "    print(\"Current Number \",i,\"previous Number \",previous_num, \"Sum: \", sum)\n",
    "    previous_num = i"
   ]
  },
  {
   "cell_type": "markdown",
   "id": "8981e3b0",
   "metadata": {},
   "source": [
    "### Exercise 3: Print characters from a string that are present at an even index number"
   ]
  },
  {
   "cell_type": "code",
   "execution_count": 20,
   "id": "05c6e2f2",
   "metadata": {},
   "outputs": [
    {
     "name": "stdout",
     "output_type": "stream",
     "text": [
      "Enter the string: pynative\n",
      "p\n",
      "n\n",
      "t\n",
      "v\n"
     ]
    }
   ],
   "source": [
    "string = input(\"Enter the string: \").lower()\n",
    "for i in range(0,len(string),2):   \n",
    "    print(string[i])"
   ]
  },
  {
   "cell_type": "markdown",
   "id": "64a12850",
   "metadata": {},
   "source": [
    "### Exercise 4: Remove first n characters from a string"
   ]
  },
  {
   "cell_type": "code",
   "execution_count": 25,
   "id": "b071fbfb",
   "metadata": {},
   "outputs": [
    {
     "name": "stdout",
     "output_type": "stream",
     "text": [
      "tive\n",
      "native\n"
     ]
    }
   ],
   "source": [
    "def remove_char(value,remove):\n",
    "    remove = value[remove:]\n",
    "    print(remove)\n",
    "remove_char(\"Pynative\",4)\n",
    "remove_char(\"pynative\",2)"
   ]
  },
  {
   "cell_type": "markdown",
   "id": "7620def7",
   "metadata": {},
   "source": [
    "### Exercise 5: Check if the first and last number of a list is the same\n"
   ]
  },
  {
   "cell_type": "code",
   "execution_count": 37,
   "id": "e1d32acf",
   "metadata": {},
   "outputs": [
    {
     "name": "stdout",
     "output_type": "stream",
     "text": [
      "Enter the value of list: 10 20 10\n",
      "Result is: True\n"
     ]
    }
   ],
   "source": [
    "def same(list):\n",
    "    if list[0] == list[-1]:\n",
    "        return True\n",
    "    else:\n",
    "        return False\n",
    "list = input(\"Enter the value of list: \")\n",
    "list1 = list.split(\" \")\n",
    "print(f\"Result is: {same(list1)}\")\n"
   ]
  },
  {
   "cell_type": "markdown",
   "id": "03559f96",
   "metadata": {},
   "source": [
    "### Exercise 6: Display numbers divisible by 5 from a list"
   ]
  },
  {
   "cell_type": "code",
   "execution_count": 48,
   "id": "072d9257",
   "metadata": {},
   "outputs": [
    {
     "name": "stdout",
     "output_type": "stream",
     "text": [
      "Enter the value of list: 10 20 30 45 98\n",
      "divisable by: 5\n",
      "10\n",
      "20\n",
      "30\n",
      "45\n"
     ]
    }
   ],
   "source": [
    "def divisable(list):\n",
    "    print(\"divisable by: 5\")\n",
    "    for i in list:\n",
    "        if i%5== 0:\n",
    "            print(i)\n",
    "# divisable([10, 20, 33, 46, 55])\n",
    "value = input(\"Enter the value of list: \")\n",
    "numbers_str = value.split()\n",
    "list = [int(x) for x in numbers_str]\n",
    "divisable(list)"
   ]
  },
  {
   "cell_type": "markdown",
   "id": "e08cac5d",
   "metadata": {},
   "source": [
    "### Exercise 7: Return the count of a given substring from a string"
   ]
  },
  {
   "cell_type": "code",
   "execution_count": 46,
   "id": "09f788be",
   "metadata": {},
   "outputs": [
    {
     "name": "stdout",
     "output_type": "stream",
     "text": [
      "Emma appeared 2 times\n"
     ]
    }
   ],
   "source": [
    "def counting(str_x):\n",
    "    count = str_x.count(\"Emma\")\n",
    "    return count\n",
    "count = counting(\"Emma is good developer. Emma is a writer\")\n",
    "print(f\"Emma appeared {count} times\")"
   ]
  },
  {
   "cell_type": "code",
   "execution_count": 47,
   "id": "9e15f661",
   "metadata": {},
   "outputs": [
    {
     "name": "stdout",
     "output_type": "stream",
     "text": [
      "2\n"
     ]
    }
   ],
   "source": [
    "str_x = \"Emma is good developer. Emma is a writer\"\n",
    "# use count method of a str class\n",
    "cnt = str_x.count(\"Emma\")\n",
    "print(cnt)"
   ]
  },
  {
   "cell_type": "markdown",
   "id": "820ef734",
   "metadata": {},
   "source": [
    "### Exercise 8: Print the following pattern"
   ]
  },
  {
   "cell_type": "code",
   "execution_count": 57,
   "id": "f2216303",
   "metadata": {},
   "outputs": [
    {
     "name": "stdout",
     "output_type": "stream",
     "text": [
      "1  \n",
      "2 2  \n",
      "3 3 3  \n",
      "4 4 4 4  \n",
      "5 5 5 5 5  \n"
     ]
    }
   ],
   "source": [
    "\n",
    "for i in range(1,6):\n",
    "    for j in  range(i):\n",
    "        print(i, end = \" \")\n",
    "    print(\" \")"
   ]
  },
  {
   "cell_type": "markdown",
   "id": "9467873b",
   "metadata": {},
   "source": [
    "### Exercise 9: Check Palindrome Number"
   ]
  },
  {
   "cell_type": "code",
   "execution_count": 61,
   "id": "241f70c3",
   "metadata": {},
   "outputs": [
    {
     "name": "stdout",
     "output_type": "stream",
     "text": [
      "Enter the value: 121\n",
      "It's a palindrome number.\n"
     ]
    }
   ],
   "source": [
    "value = input(\"Enter the value: \")\n",
    "# value_str = value.split()\n",
    "# list = [int(x) for x in value_str]\n",
    "reverse = value[::-1]\n",
    "if value == reverse:\n",
    "    print(\"It's a palindrome number.\")\n",
    "else:\n",
    "    print(\"It's not palindrome number\")\n"
   ]
  },
  {
   "cell_type": "code",
   "execution_count": 73,
   "id": "831c36a0",
   "metadata": {},
   "outputs": [
    {
     "name": "stdout",
     "output_type": "stream",
     "text": [
      "Enter the number: 121\n",
      "It's a palindrome number\n",
      "Enter another number or type 'quit' to exit: 121\n",
      "It's a palindrome number\n",
      "Enter another number or type 'quit' to exit: 1221\n",
      "It's a palindrome number\n",
      "Enter another number or type 'quit' to exit: 1223\n",
      "It's not a palindrome number\n",
      "Enter another number or type 'quit' to exit: quit\n",
      "Over\n"
     ]
    }
   ],
   "source": [
    "def palindrome(number):   \n",
    "    while True:\n",
    "        if number.lower() == \"quit\":\n",
    "            print(\"Over\")\n",
    "            break\n",
    "        reverse = number[::-1]\n",
    "        if reverse == number:\n",
    "            print(\"It's a palindrome number\")\n",
    "        else:\n",
    "            print(\"It's not a palindrome number\")\n",
    "        number = input(\"Enter another number or type 'quit' to exit: \")  \n",
    "number = input(\"Enter the number: \")\n",
    "palindrome(number)"
   ]
  },
  {
   "cell_type": "markdown",
   "id": "efad4338",
   "metadata": {},
   "source": [
    "#### Exercise 11: Write a Program to extract each digit from an integer in the reverse order."
   ]
  },
  {
   "cell_type": "code",
   "execution_count": 4,
   "id": "c20d4a15",
   "metadata": {},
   "outputs": [
    {
     "name": "stdout",
     "output_type": "stream",
     "text": [
      "Enter the number: 769\n",
      "9 6 7 "
     ]
    }
   ],
   "source": [
    "value = input(\"Enter the number: \")\n",
    "reverse = value[::-1]\n",
    "for i in reverse:\n",
    "    print(i, end = \" \")"
   ]
  },
  {
   "cell_type": "markdown",
   "id": "5267e842",
   "metadata": {},
   "source": [
    "#### Exercise 12: Calculate income tax for the given income by adhering to the rules below"
   ]
  },
  {
   "cell_type": "code",
   "execution_count": 7,
   "id": "9b8922fe",
   "metadata": {},
   "outputs": [
    {
     "name": "stdout",
     "output_type": "stream",
     "text": [
      "You should pay tax, 6000.0$ for 45000\n"
     ]
    }
   ],
   "source": [
    "income_tax = 10000*0/100+10000*10/100+25000*20/100\n",
    "print(f\"You should pay tax, {income_tax}$ for 45000\")"
   ]
  },
  {
   "cell_type": "markdown",
   "id": "fe164107",
   "metadata": {},
   "source": [
    "### Exercise 13: Print multiplication table from 1 to 10"
   ]
  },
  {
   "cell_type": "code",
   "execution_count": 29,
   "id": "c29cf1a6",
   "metadata": {},
   "outputs": [
    {
     "name": "stdout",
     "output_type": "stream",
     "text": [
      "1 2 3 4 5 6 7 8 9 10  \n",
      "2 4 6 8 10 12 14 16 18 20  \n",
      "3 6 9 12 15 18 21 24 27 30  \n",
      "4 8 12 16 20 24 28 32 36 40  \n",
      "5 10 15 20 25 30 35 40 45 50  \n",
      "6 12 18 24 30 36 42 48 54 60  \n",
      "7 14 21 28 35 42 49 56 63 70  \n",
      "8 16 24 32 40 48 56 64 72 80  \n",
      "9 18 27 36 45 54 63 72 81 90  \n",
      "10 20 30 40 50 60 70 80 90 100  \n"
     ]
    }
   ],
   "source": [
    "for i in range(1,11):\n",
    "    for j in range(1,11):\n",
    "        multiply= i * j\n",
    "        print(multiply, end = \" \")\n",
    "    print(\" \")"
   ]
  },
  {
   "cell_type": "markdown",
   "id": "f01893ee",
   "metadata": {},
   "source": [
    "#### Exercise 14: Print a downward Half-Pyramid Pattern of Star (asterisk)"
   ]
  },
  {
   "cell_type": "code",
   "execution_count": 47,
   "id": "9875b1ca",
   "metadata": {},
   "outputs": [
    {
     "name": "stdout",
     "output_type": "stream",
     "text": [
      "* * * * *  \n",
      "* * * *  \n",
      "* * *  \n",
      "* *  \n",
      "*  \n",
      " \n"
     ]
    }
   ],
   "source": [
    "for i in range(6,0,-1):\n",
    "    for j in range(0,i-1):\n",
    "        print(\"*\", end = \" \")\n",
    "    print(\" \")"
   ]
  },
  {
   "cell_type": "code",
   "execution_count": 50,
   "id": "0847aab8",
   "metadata": {},
   "outputs": [
    {
     "name": "stdout",
     "output_type": "stream",
     "text": [
      " * * * * *\n",
      " * * * *\n",
      " * * *\n",
      " * *\n",
      " *\n"
     ]
    }
   ],
   "source": [
    "for i in range(5,0,-1):\n",
    "    print(i * \" *\")"
   ]
  },
  {
   "cell_type": "markdown",
   "id": "96b4532b",
   "metadata": {},
   "source": [
    "##### Exercise 15: Write a function called exponent(base, exp) that returns an int value of base raises to the power of exp."
   ]
  },
  {
   "cell_type": "code",
   "execution_count": 57,
   "id": "1b650fea",
   "metadata": {},
   "outputs": [
    {
     "name": "stdout",
     "output_type": "stream",
     "text": [
      "Enter the base number: 2.75\n",
      "Enter the exp number: 2.25\n",
      "The result of 2.75's 2.25 exponent is: 9.738645587658398\n"
     ]
    }
   ],
   "source": [
    "def exponent(base,exp):\n",
    "    result = base ** exp\n",
    "    return result\n",
    "base = float(input(\"Enter the base number: \"))\n",
    "exp = float(input(\"Enter the exp number: \"))\n",
    "print(f\"The result of {base}'s {exp} exponent is: {exponent(base,exp)}\")"
   ]
  },
  {
   "cell_type": "code",
   "execution_count": null,
   "id": "9ab84767",
   "metadata": {},
   "outputs": [],
   "source": []
  }
 ],
 "metadata": {
  "kernelspec": {
   "display_name": "Python 3 (ipykernel)",
   "language": "python",
   "name": "python3"
  },
  "language_info": {
   "codemirror_mode": {
    "name": "ipython",
    "version": 3
   },
   "file_extension": ".py",
   "mimetype": "text/x-python",
   "name": "python",
   "nbconvert_exporter": "python",
   "pygments_lexer": "ipython3",
   "version": "3.11.5"
  }
 },
 "nbformat": 4,
 "nbformat_minor": 5
}
