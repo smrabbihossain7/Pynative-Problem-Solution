{
 "cells": [
  {
   "cell_type": "markdown",
   "id": "70d35c3e",
   "metadata": {},
   "source": [
    "#### Exercise 1: Create a function in Python"
   ]
  },
  {
   "cell_type": "code",
   "execution_count": 2,
   "id": "48e8443e",
   "metadata": {},
   "outputs": [
    {
     "name": "stdout",
     "output_type": "stream",
     "text": [
      "Rabbi 27\n"
     ]
    }
   ],
   "source": [
    "def information(name, age):\n",
    "    print(name, age)\n",
    "    \n",
    "information(\"Rabbi\", 27)"
   ]
  },
  {
   "cell_type": "markdown",
   "id": "13fa588b",
   "metadata": {},
   "source": [
    "#### Exercise 2: Create a function with variable length of arguments"
   ]
  },
  {
   "cell_type": "code",
   "execution_count": 13,
   "id": "d4d97da1",
   "metadata": {},
   "outputs": [
    {
     "name": "stdout",
     "output_type": "stream",
     "text": [
      "Printing Values:\n",
      "20\n",
      "40\n",
      "60\n",
      "Printing Values:\n",
      "80\n",
      "100\n",
      "Ashish Kumar\n"
     ]
    }
   ],
   "source": [
    "def fun1(*number):\n",
    "    print(\"Printing Values:\")\n",
    "    for i in number:\n",
    "        print(i)\n",
    "        \n",
    "        \n",
    "fun1(20, 40, 60)\n",
    "fun1(80,100,\"Ashish Kumar\")"
   ]
  },
  {
   "cell_type": "markdown",
   "id": "a72eb225",
   "metadata": {},
   "source": [
    "#### Exercise 3: Return multiple values from a function"
   ]
  },
  {
   "cell_type": "code",
   "execution_count": 14,
   "id": "a7ec26c8",
   "metadata": {},
   "outputs": [
    {
     "name": "stdout",
     "output_type": "stream",
     "text": [
      "Enter the first value: 50\n",
      "Enter the second value40\n",
      " + - * /(90, 10, 2000, 1.25)\n"
     ]
    }
   ],
   "source": [
    "def calculation(a, b):\n",
    "    addition = a + b\n",
    "    substraction = a - b\n",
    "    multiplication = a * b\n",
    "    divison = a / b\n",
    "    \n",
    "    return (f\" + - * /{addition, substraction, multiplication, divison}\")\n",
    "a = int(input(\"Enter the first value: \"))\n",
    "b = int(input(\"Enter the second value: \"))\n",
    "res = calculation(a, b)\n",
    "print(res)"
   ]
  },
  {
   "cell_type": "code",
   "execution_count": 16,
   "id": "5d6b70ab",
   "metadata": {},
   "outputs": [
    {
     "name": "stdout",
     "output_type": "stream",
     "text": [
      "80 20 1500 1.6666666666666667\n"
     ]
    }
   ],
   "source": [
    "def calculation(a, b):\n",
    "    return a + b, a-b, a*b,a/b\n",
    "\n",
    "#get result in tuple format\n",
    "#unpack tuple\n",
    "add,sub,mul,div = calculation(50,30)\n",
    "print(add,sub,mul,div)"
   ]
  },
  {
   "cell_type": "markdown",
   "id": "207f2737",
   "metadata": {},
   "source": [
    "#### Exercise 4: Create a function with a default argument"
   ]
  },
  {
   "cell_type": "code",
   "execution_count": 18,
   "id": "1946b699",
   "metadata": {},
   "outputs": [
    {
     "name": "stdout",
     "output_type": "stream",
     "text": [
      "Name:  Rabby , Salary:  270000\n",
      "Name:  Ashis , Salary:  9000\n"
     ]
    }
   ],
   "source": [
    "def show_employee(name, salary= 9000):\n",
    "    print(\"Name: \",name,\",\",\"Salary: \",salary)\n",
    "    \n",
    "show_employee(\"Rabby\", 270000)\n",
    "show_employee(\"Ashis\")"
   ]
  },
  {
   "cell_type": "markdown",
   "id": "a4b3a30a",
   "metadata": {},
   "source": [
    "#### Exercise 5: Create an inner function to calculate the addition in the following way"
   ]
  },
  {
   "cell_type": "code",
   "execution_count": 26,
   "id": "72934c93",
   "metadata": {},
   "outputs": [
    {
     "name": "stdout",
     "output_type": "stream",
     "text": [
      "40\n"
     ]
    }
   ],
   "source": [
    "def value(a, b):\n",
    "    square = a ** 2\n",
    "    def addition(a, b):\n",
    "        return a + b\n",
    "    add = addition(a, b)\n",
    "    return add + 5\n",
    "result= value(10,25)\n",
    "print(result)\n"
   ]
  },
  {
   "cell_type": "markdown",
   "id": "7e10ac55",
   "metadata": {},
   "source": [
    "#### Exercise 6: Create a recursive function"
   ]
  },
  {
   "cell_type": "code",
   "execution_count": 29,
   "id": "de74b239",
   "metadata": {},
   "outputs": [
    {
     "name": "stdout",
     "output_type": "stream",
     "text": [
      "15\n"
     ]
    }
   ],
   "source": [
    "def addition(num):\n",
    "    if num:\n",
    "        return num + addition(num - 1)\n",
    "    else:\n",
    "        return 0\n",
    "    \n",
    "res = addition(5)\n",
    "print(res)"
   ]
  },
  {
   "cell_type": "code",
   "execution_count": 32,
   "id": "24434494",
   "metadata": {},
   "outputs": [
    {
     "name": "stdout",
     "output_type": "stream",
     "text": [
      "120\n"
     ]
    }
   ],
   "source": [
    "def factorial(num):\n",
    "    if num == 0 or num ==1:\n",
    "        return 1\n",
    "    else:\n",
    "        return num * factorial(num-1)\n",
    "    \n",
    "res = factorial(5)\n",
    "print(res)"
   ]
  },
  {
   "cell_type": "code",
   "execution_count": 43,
   "id": "7f8ce488",
   "metadata": {},
   "outputs": [
    {
     "name": "stdout",
     "output_type": "stream",
     "text": [
      "Enter the terms of series number8\n",
      "Fibonacci sequence:\n",
      "0 1 1 2 3 5 8 13 21 "
     ]
    }
   ],
   "source": [
    "def fibonacci(n):\n",
    "    if n <= 1:\n",
    "        return n\n",
    "        \n",
    "    else:\n",
    "        return fibonacci(n-1) + fibonacci(n-2)\n",
    "nterms = int(input(\"Enter the terms of series number\"))        \n",
    "if nterms <= 0:\n",
    "    print(\"Please enter a positive integer\")\n",
    "else:\n",
    "    print(\"Fibonacci sequence:\")\n",
    "    for i in range(nterms + 1):\n",
    "        print(fibonacci(i), end=\" \")\n",
    "    "
   ]
  },
  {
   "cell_type": "markdown",
   "id": "def563ca",
   "metadata": {},
   "source": [
    "#### Exercise 7: Assign a different name to function and call it through the new name"
   ]
  },
  {
   "cell_type": "code",
   "execution_count": 6,
   "id": "faba42a1",
   "metadata": {},
   "outputs": [
    {
     "name": "stdout",
     "output_type": "stream",
     "text": [
      "Name: Rabbi,Age: 27\n"
     ]
    }
   ],
   "source": [
    "def display_student(name, age):\n",
    "    print(f\"Name: {name},Age: {age}\")\n",
    "    \n",
    "show_student = display_student    \n",
    "show_student(\"Rabbi\", 27)"
   ]
  },
  {
   "cell_type": "markdown",
   "id": "2a3ca6b9",
   "metadata": {},
   "source": [
    "#### Exercise 8: Generate a Python list of all the even numbers between 4 to 30"
   ]
  },
  {
   "cell_type": "code",
   "execution_count": 17,
   "id": "3e7750db",
   "metadata": {},
   "outputs": [
    {
     "name": "stdout",
     "output_type": "stream",
     "text": [
      "Enter the value: 30\n",
      "[2, 4, 6, 8, 10, 12, 14, 16, 18, 20, 22, 24, 26, 28]\n"
     ]
    }
   ],
   "source": [
    "def even_list(number):\n",
    "    list1 = [int(x) for x in range(2,number,2)]\n",
    "    print(list1)\n",
    "number = int(input(\"Enter the value: \"))    \n",
    "even_list(number)"
   ]
  },
  {
   "cell_type": "code",
   "execution_count": 14,
   "id": "eda2af0d",
   "metadata": {},
   "outputs": [
    {
     "name": "stdout",
     "output_type": "stream",
     "text": [
      "[4, 6, 8, 10, 12, 14, 16, 18, 20, 22, 24, 26, 28]\n"
     ]
    }
   ],
   "source": [
    "print(list(range(4, 30, 2)))"
   ]
  },
  {
   "cell_type": "markdown",
   "id": "4f860e77",
   "metadata": {},
   "source": [
    "#### Exercise 9: Find the largest item from a given list"
   ]
  },
  {
   "cell_type": "code",
   "execution_count": 19,
   "id": "b1e04d06",
   "metadata": {},
   "outputs": [
    {
     "name": "stdout",
     "output_type": "stream",
     "text": [
      "Enter the number by giving space: 231 543 6776 24233 3 52345 756 \n",
      "52345\n"
     ]
    }
   ],
   "source": [
    "def find_max(n):\n",
    "    print(max(n))\n",
    "    \n",
    "input_str = input(\"Enter the number by giving space: \")\n",
    "list1 = [int(i) for i in input_str.split()]\n",
    "find_max(list1)"
   ]
  },
  {
   "cell_type": "code",
   "execution_count": null,
   "id": "150fc2fb",
   "metadata": {},
   "outputs": [],
   "source": []
  }
 ],
 "metadata": {
  "kernelspec": {
   "display_name": "Python 3 (ipykernel)",
   "language": "python",
   "name": "python3"
  },
  "language_info": {
   "codemirror_mode": {
    "name": "ipython",
    "version": 3
   },
   "file_extension": ".py",
   "mimetype": "text/x-python",
   "name": "python",
   "nbconvert_exporter": "python",
   "pygments_lexer": "ipython3",
   "version": "3.11.5"
  }
 },
 "nbformat": 4,
 "nbformat_minor": 5
}
