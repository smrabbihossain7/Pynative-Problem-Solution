{
 "cells": [
  {
   "cell_type": "markdown",
   "id": "03463bc5",
   "metadata": {},
   "source": [
    "#### Exercise 1: Print First 10 natural numbers using while loop"
   ]
  },
  {
   "cell_type": "code",
   "execution_count": 1,
   "id": "9c918d52",
   "metadata": {},
   "outputs": [
    {
     "name": "stdout",
     "output_type": "stream",
     "text": [
      "1\n",
      "2\n",
      "3\n",
      "4\n",
      "5\n",
      "6\n",
      "7\n",
      "8\n",
      "9\n",
      "10\n"
     ]
    }
   ],
   "source": [
    "for i in range(1,11):\n",
    "    print(i)"
   ]
  },
  {
   "cell_type": "markdown",
   "id": "56b25bb7",
   "metadata": {},
   "source": [
    "#### Exercise 2: Print the following pattern"
   ]
  },
  {
   "cell_type": "code",
   "execution_count": 9,
   "id": "0a0abba9",
   "metadata": {},
   "outputs": [
    {
     "name": "stdout",
     "output_type": "stream",
     "text": [
      "1  \n",
      "1 2  \n",
      "1 2 3  \n",
      "1 2 3 4  \n",
      "1 2 3 4 5  \n"
     ]
    }
   ],
   "source": [
    "for i in range(1,6):\n",
    "    for j in  range(1, i +1):\n",
    "        print(j, end = \" \")\n",
    "    print(\" \")"
   ]
  },
  {
   "cell_type": "markdown",
   "id": "b1bf7913",
   "metadata": {},
   "source": [
    "#### Exercise 3: Calculate the sum of all numbers from 1 to a given number"
   ]
  },
  {
   "cell_type": "code",
   "execution_count": 15,
   "id": "6b8f8f75",
   "metadata": {},
   "outputs": [
    {
     "name": "stdout",
     "output_type": "stream",
     "text": [
      "55\n"
     ]
    }
   ],
   "source": [
    "sum = 0\n",
    "for i in range(1,11):\n",
    "    sum += i\n",
    "print(sum)"
   ]
  },
  {
   "cell_type": "markdown",
   "id": "e37e3162",
   "metadata": {},
   "source": [
    "#### Exercise 4: Write a program to print multiplication table of a given number"
   ]
  },
  {
   "cell_type": "code",
   "execution_count": 2,
   "id": "314c7e67",
   "metadata": {},
   "outputs": [
    {
     "name": "stdout",
     "output_type": "stream",
     "text": [
      "Write the number,which you want to see multiplication 1-10: 9\n",
      "9 X 1 = 9\n",
      "9 X 2 = 18\n",
      "9 X 3 = 27\n",
      "9 X 4 = 36\n",
      "9 X 5 = 45\n",
      "9 X 6 = 54\n",
      "9 X 7 = 63\n",
      "9 X 8 = 72\n",
      "9 X 9 = 81\n",
      "9 X 10 = 90\n"
     ]
    }
   ],
   "source": [
    "num = int(input(\"Write the number,which you want to see multiplication 1-10: \"))\n",
    "for i in range(1,11):\n",
    "    multiply = i * num\n",
    "    print(f\"{num} X {i} = {multiply}\")"
   ]
  },
  {
   "cell_type": "markdown",
   "id": "e4e11c80",
   "metadata": {},
   "source": [
    "#### Exercise 5: Display numbers from a list using loop"
   ]
  },
  {
   "cell_type": "code",
   "execution_count": 18,
   "id": "f356a164",
   "metadata": {},
   "outputs": [
    {
     "name": "stdout",
     "output_type": "stream",
     "text": [
      "75\n",
      "150\n",
      "145\n"
     ]
    }
   ],
   "source": [
    "numbers = [12, 75, 150, 180, 145, 525, 50]\n",
    "for num in numbers:\n",
    "    if num > 500:\n",
    "        break\n",
    "    if num > 150:\n",
    "        continue\n",
    "    elif num % 5==0:\n",
    "        print(num)\n",
    "                "
   ]
  },
  {
   "cell_type": "markdown",
   "id": "37c06ece",
   "metadata": {},
   "source": [
    "#### Exercise 6: Count the total number of digits in a number"
   ]
  },
  {
   "cell_type": "code",
   "execution_count": 29,
   "id": "eb6d5b4a",
   "metadata": {},
   "outputs": [
    {
     "name": "stdout",
     "output_type": "stream",
     "text": [
      "Total digits are: 5\n"
     ]
    }
   ],
   "source": [
    "number = 75869\n",
    "count = 0\n",
    "while number != 0:\n",
    "    # floor division\n",
    "    # to reduce the last digit from number\n",
    "    number = number // 10\n",
    "    count += 1\n",
    "print(\"Total digits are:\",count)"
   ]
  },
  {
   "cell_type": "markdown",
   "id": "a232d55a",
   "metadata": {},
   "source": [
    "#### Exercise 7: Print the following pattern"
   ]
  },
  {
   "cell_type": "code",
   "execution_count": 62,
   "id": "3db71665",
   "metadata": {},
   "outputs": [
    {
     "name": "stdout",
     "output_type": "stream",
     "text": [
      "5 4 3 2 1 \n",
      "4 3 2 1 \n",
      "3 2 1 \n",
      "2 1 \n",
      "1 \n"
     ]
    }
   ],
   "source": [
    "for i in range(0,5):\n",
    "    for j in range(5-i,0,-1):\n",
    "        print(j, end = \" \")\n",
    "    print()"
   ]
  },
  {
   "cell_type": "code",
   "execution_count": 61,
   "id": "d019c6b1",
   "metadata": {},
   "outputs": [
    {
     "name": "stdout",
     "output_type": "stream",
     "text": [
      "5 4 3 2 1 \n",
      "4 3 2 1 \n",
      "3 2 1 \n",
      "2 1 \n",
      "1 \n"
     ]
    }
   ],
   "source": [
    "for i in range(5,0,-1):\n",
    "    for j in range(i,0,-1):\n",
    "        print(j, end= \" \")\n",
    "    print()"
   ]
  },
  {
   "cell_type": "code",
   "execution_count": 70,
   "id": "50dbe4f5",
   "metadata": {},
   "outputs": [
    {
     "name": "stdout",
     "output_type": "stream",
     "text": [
      "1 2 3 4 5 \n",
      "1 2 3 4 \n",
      "1 2 3 \n",
      "1 2 \n",
      "1 \n"
     ]
    }
   ],
   "source": [
    "for i in range(5,0,-1):\n",
    "    for j in range(1,i+1):\n",
    "        print(j, end= \" \")\n",
    "    print()"
   ]
  },
  {
   "cell_type": "markdown",
   "id": "38ce1504",
   "metadata": {},
   "source": [
    "#### Exercise 8: Print list in reverse order using a loop"
   ]
  },
  {
   "cell_type": "code",
   "execution_count": 6,
   "id": "8bcf1740",
   "metadata": {},
   "outputs": [
    {
     "name": "stdout",
     "output_type": "stream",
     "text": [
      "50\n",
      "40\n",
      "30\n",
      "20\n",
      "10\n"
     ]
    }
   ],
   "source": [
    "list1 = [10, 20, 30, 40, 50]\n",
    "reverselist = reversed(list1)\n",
    "for item in reverselist:\n",
    "    print(item)\n"
   ]
  },
  {
   "cell_type": "markdown",
   "id": "7d210719",
   "metadata": {},
   "source": [
    "#### Exercise 9: Display numbers from -10 to -1 using for loop"
   ]
  },
  {
   "cell_type": "code",
   "execution_count": 8,
   "id": "3d0e7f0e",
   "metadata": {},
   "outputs": [
    {
     "name": "stdout",
     "output_type": "stream",
     "text": [
      "-10\n",
      "-9\n",
      "-8\n",
      "-7\n",
      "-6\n",
      "-5\n",
      "-4\n",
      "-3\n",
      "-2\n",
      "-1\n"
     ]
    }
   ],
   "source": [
    "for i in range(-10,0,1):\n",
    "    print(i)"
   ]
  },
  {
   "cell_type": "markdown",
   "id": "98c84869",
   "metadata": {},
   "source": [
    "#### Exercise 10: Use else block to display a message “Done” after successful execution of for loop"
   ]
  },
  {
   "cell_type": "code",
   "execution_count": 10,
   "id": "dac902a8",
   "metadata": {},
   "outputs": [
    {
     "name": "stdout",
     "output_type": "stream",
     "text": [
      "0\n",
      "1\n",
      "2\n",
      "3\n",
      "4\n",
      "Done!\n"
     ]
    }
   ],
   "source": [
    "for i in range(5):\n",
    "    print(i)\n",
    "else:\n",
    "    print(\"Done!\")"
   ]
  },
  {
   "cell_type": "markdown",
   "id": "1f4a5f5c",
   "metadata": {},
   "source": [
    "#### Exercise 11: Write a program to display all prime numbers within a range"
   ]
  },
  {
   "cell_type": "code",
   "execution_count": 2,
   "id": "d5a294e1",
   "metadata": {},
   "outputs": [
    {
     "name": "stdout",
     "output_type": "stream",
     "text": [
      "29\n",
      "31\n",
      "37\n",
      "41\n",
      "43\n",
      "47\n"
     ]
    }
   ],
   "source": [
    "for num in range(25, 51):\n",
    "    if num > 1:\n",
    "        for i in range(2, num):\n",
    "            if num%i==0:\n",
    "                break\n",
    "        else:\n",
    "            print(num)"
   ]
  },
  {
   "cell_type": "markdown",
   "id": "014a9bab",
   "metadata": {},
   "source": [
    "#### Exercise 12: Display Fibonacci series up to 10 terms"
   ]
  },
  {
   "cell_type": "code",
   "execution_count": 8,
   "id": "db669faa",
   "metadata": {},
   "outputs": [
    {
     "name": "stdout",
     "output_type": "stream",
     "text": [
      "0 1 1 2 3 5 8 13 21 34 "
     ]
    }
   ],
   "source": [
    "num1 = 0\n",
    "num2 = 1\n",
    "for num in range(1,11):\n",
    "    print(num1, end = \" \")\n",
    "    res = num1 + num2\n",
    "    num1 = num2\n",
    "    num2 = res"
   ]
  },
  {
   "cell_type": "markdown",
   "id": "2cfc0fec",
   "metadata": {},
   "source": [
    "#### Exercise 13: Find the factorial of a given number"
   ]
  },
  {
   "cell_type": "code",
   "execution_count": 22,
   "id": "8a9a2fbb",
   "metadata": {},
   "outputs": [
    {
     "name": "stdout",
     "output_type": "stream",
     "text": [
      "Enter the number: 5\n",
      "120\n"
     ]
    }
   ],
   "source": [
    "factorial = 1\n",
    "while True:\n",
    "    number = int(input(\"Enter the number: \"))\n",
    "    if number > 1:\n",
    "        for num in range(1, number + 1):\n",
    "            factorial = factorial * num\n",
    "        print(factorial)\n",
    "        break\n",
    "    else:\n",
    "        print(\"Input the positive number over than 1\")"
   ]
  },
  {
   "cell_type": "markdown",
   "id": "6e0534eb",
   "metadata": {},
   "source": [
    "#### Exercise 14: Reverse a given integer number"
   ]
  },
  {
   "cell_type": "code",
   "execution_count": 24,
   "id": "cafcc69b",
   "metadata": {},
   "outputs": [
    {
     "name": "stdout",
     "output_type": "stream",
     "text": [
      "Enter the number: 2134567\n",
      "7654312\n"
     ]
    }
   ],
   "source": [
    "number = input(\"Enter the number: \")\n",
    "reverse = number[::-1]\n",
    "print(reverse)"
   ]
  },
  {
   "cell_type": "code",
   "execution_count": 29,
   "id": "5b52f175",
   "metadata": {},
   "outputs": [
    {
     "name": "stdout",
     "output_type": "stream",
     "text": [
      "Enter the number: 1234\n",
      "Reverse number:  4321\n"
     ]
    }
   ],
   "source": [
    "num = int(input(\"Enter the number: \"))\n",
    "reverse_number = 0\n",
    "while num > 0:\n",
    "    reminder = num % 10\n",
    "    reverse_number = (reverse_number * 10) + reminder\n",
    "    num = num // 10\n",
    "print(\"Reverse number: \",reverse_number)"
   ]
  },
  {
   "cell_type": "markdown",
   "id": "dc3bb5b9",
   "metadata": {},
   "source": [
    "#### Exercise 15: Use a loop to display elements from a given list present at odd index positions"
   ]
  },
  {
   "cell_type": "code",
   "execution_count": 2,
   "id": "0c271cfc",
   "metadata": {},
   "outputs": [
    {
     "name": "stdout",
     "output_type": "stream",
     "text": [
      "Enter numbers separated by spaces: 321 5156 6828 31 2 6372 7589  1 375\n",
      "5156 31 6372 1 "
     ]
    }
   ],
   "source": [
    "numbers = input(\"Enter numbers separated by spaces: \")\n",
    "list_numbers = [int(x) for x in numbers.split()]\n",
    "# using slicing we can get odd position index number\n",
    "for i in list_numbers[1::2]:\n",
    "    print(i, end = \" \")\n",
    "    "
   ]
  },
  {
   "cell_type": "markdown",
   "id": "cddae1eb",
   "metadata": {},
   "source": [
    "#### Exercise 16: Calculate the cube of all numbers from 1 to a given number"
   ]
  },
  {
   "cell_type": "code",
   "execution_count": 21,
   "id": "e664b109",
   "metadata": {},
   "outputs": [
    {
     "name": "stdout",
     "output_type": "stream",
     "text": [
      "Enter the number: 5\n",
      "Current Number is : 1  and the cube is 1\n",
      "Current Number is : 2  and the cube is 8\n",
      "Current Number is : 3  and the cube is 27\n",
      "Current Number is : 4  and the cube is 64\n",
      "Current Number is : 5  and the cube is 125\n"
     ]
    }
   ],
   "source": [
    "number = int(input(\"Enter the number: \"))\n",
    "for num in range(1, number + 1):\n",
    "    res = num ** 3\n",
    "    print(f\"Current Number is : {num}  and the cube is {res}\")"
   ]
  },
  {
   "cell_type": "markdown",
   "id": "ca1e17be",
   "metadata": {},
   "source": [
    "#### Exercise 17: Find the sum of the series upto n terms"
   ]
  },
  {
   "cell_type": "code",
   "execution_count": 8,
   "id": "a31218bc",
   "metadata": {},
   "outputs": [
    {
     "name": "stdout",
     "output_type": "stream",
     "text": [
      "Enter the number: 9\n",
      "Enter the term of series: 5\n",
      "9+99+999+9999+99999+\n",
      "Sum of above series is: 111105\n"
     ]
    }
   ],
   "source": [
    "number = int(input(\"Enter the number: \"))\n",
    "n = int(input(\"Enter the term of series: \"))\n",
    "sum1 = 0\n",
    "for i in range(n):\n",
    "    print(number, end = \"+\")\n",
    "    sum1 += number\n",
    "    number = number*10 + int(str(number)[0])\n",
    "print(\"\\nSum of above series is:\", sum1)\n",
    "    "
   ]
  },
  {
   "cell_type": "markdown",
   "id": "9dd2d467",
   "metadata": {},
   "source": [
    "#### Exercise 18: Print the following pattern"
   ]
  },
  {
   "cell_type": "code",
   "execution_count": 16,
   "id": "e5d9b3b8",
   "metadata": {},
   "outputs": [
    {
     "name": "stdout",
     "output_type": "stream",
     "text": [
      "Enter the size of diamond in cm: 5\n",
      "     *\n",
      "    * *\n",
      "   * * *\n",
      "  * * * *\n",
      " * * * * *\n",
      "  * * * *\n",
      "   * * *\n",
      "    * *\n",
      "     *\n"
     ]
    }
   ],
   "source": [
    "n = int(input(\"Enter the size of diamond in cm: \"))\n",
    "for i in range(1, n+1, 1):\n",
    "    print(\" \" * (n-i) + \" *\" * i)\n",
    "for j in range(n-1, 0, -1):\n",
    "    print(\" \" * (n-j) + j * \" *\")"
   ]
  },
  {
   "cell_type": "code",
   "execution_count": null,
   "id": "24bf777e",
   "metadata": {},
   "outputs": [],
   "source": []
  }
 ],
 "metadata": {
  "kernelspec": {
   "display_name": "Python 3 (ipykernel)",
   "language": "python",
   "name": "python3"
  },
  "language_info": {
   "codemirror_mode": {
    "name": "ipython",
    "version": 3
   },
   "file_extension": ".py",
   "mimetype": "text/x-python",
   "name": "python",
   "nbconvert_exporter": "python",
   "pygments_lexer": "ipython3",
   "version": "3.11.5"
  }
 },
 "nbformat": 4,
 "nbformat_minor": 5
}
